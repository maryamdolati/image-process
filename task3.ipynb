{
  "nbformat": 4,
  "nbformat_minor": 0,
  "metadata": {
    "colab": {
      "provenance": []
    },
    "kernelspec": {
      "name": "python3",
      "display_name": "Python 3"
    },
    "language_info": {
      "name": "python"
    }
  },
  "cells": [
    {
      "cell_type": "code",
      "execution_count": 1,
      "metadata": {
        "colab": {
          "base_uri": "https://localhost:8080/"
        },
        "id": "tjdzowLvv6ir",
        "outputId": "488dca55-cc40-401b-abb1-8760d5ff7a77"
      },
      "outputs": [
        {
          "output_type": "stream",
          "name": "stdout",
          "text": [
            "Mounted at /content/drive\n"
          ]
        }
      ],
      "source": [
        "from google.colab import drive\n",
        "drive.mount('/content/drive')\n"
      ]
    },
    {
      "cell_type": "code",
      "source": [
        "import cv2\n",
        "import numpy as np"
      ],
      "metadata": {
        "id": "LXSONUZ3wO8j"
      },
      "execution_count": 2,
      "outputs": []
    },
    {
      "cell_type": "code",
      "source": [
        "#Define ROI for cropping the frames\n",
        "def region_of_interest(img, vertices):\n",
        "    mask = np.zeros_like(img)\n",
        "    match_mask_color = 255 \n",
        "    \n",
        "    cv2.fillPoly(mask, vertices, match_mask_color) #create a polygon mask in the vertices area\n",
        "    masked_image = cv2.bitwise_and(img, mask) #Apply and operation between image and mask (area of the image that is black in mask, will be black (zeo))\n",
        "    return masked_image"
      ],
      "metadata": {
        "id": "NxPaHp3wwPJh"
      },
      "execution_count": 3,
      "outputs": []
    },
    {
      "cell_type": "code",
      "source": [
        "region_of_interest_vertices = [[0, 330], [170, 70], [400,70], [500, 330]] #Custom ROI"
      ],
      "metadata": {
        "id": "Gito5f8uw-ue"
      },
      "execution_count": 4,
      "outputs": []
    },
    {
      "cell_type": "code",
      "source": [
        "cap = cv2.VideoCapture('/content/drive/MyDrive/road.webm')\n",
        "\n",
        "\n",
        "frame_width = int(cap.get(3))\n",
        "frame_height = int(cap.get(4))\n",
        "frame_rate=int(cap.get(5)) #FPS\n",
        "\n",
        "\n",
        "out = cv2.VideoWriter('/content/drive/MyDrive/road_segmented.mp4',cv2.VideoWriter_fourcc(*'XVID'),frame_rate, (frame_width,frame_height))"
      ],
      "metadata": {
        "id": "MUpN3W6exDRi"
      },
      "execution_count": 5,
      "outputs": []
    },
    {
      "cell_type": "code",
      "source": [
        "while cap.isOpened():\n",
        "    ret, img= cap.read()\n",
        "    \n",
        "    if ret:\n",
        "        gray = cv2.cvtColor(img, cv2.COLOR_BGR2GRAY)\n",
        "        \n",
        "        cropped_image = region_of_interest(gray,np.array([region_of_interest_vertices], np.int32))\n",
        "            \n",
        "            \n",
        "        blurred = cv2.GaussianBlur(cropped_image, (3, 3), 0)\n",
        "        filterr=cv2.threshold(blurred,150,255,cv2.THRESH_BINARY)[1]\n",
        "        \n",
        "        \n",
        "        canny_edges = cv2.Canny(filterr,200,255)\n",
        "        \n",
        "        cv2.imshow(\"segmented\",canny_edges)\n",
        "        cv2.imshow(\"roi\",cropped_image)\n",
        "        out.write(cv2.cvtColor(canny_edges, cv2.COLOR_GRAY2BGR))\n",
        "        if cv2.waitKey(0) & 0xFF == ord('q'):\n",
        "                break\n",
        "    else:\n",
        "         break\n",
        "        \n",
        "cap.release()\n",
        "out.release()"
      ],
      "metadata": {
        "id": "e67Kkt8gxH3T"
      },
      "execution_count": 6,
      "outputs": []
    }
  ]
}